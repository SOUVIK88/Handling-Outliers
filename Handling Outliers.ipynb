{
 "cells": [
  {
   "cell_type": "code",
   "execution_count": 1,
   "id": "1cb38d52",
   "metadata": {},
   "outputs": [],
   "source": [
    "import pandas as pd\n",
    "import seaborn as sns\n",
    "import matplotlib.pyplot as plt"
   ]
  },
  {
   "cell_type": "code",
   "execution_count": 2,
   "id": "1d008199",
   "metadata": {},
   "outputs": [
    {
     "data": {
      "text/html": [
       "<div>\n",
       "<style scoped>\n",
       "    .dataframe tbody tr th:only-of-type {\n",
       "        vertical-align: middle;\n",
       "    }\n",
       "\n",
       "    .dataframe tbody tr th {\n",
       "        vertical-align: top;\n",
       "    }\n",
       "\n",
       "    .dataframe thead th {\n",
       "        text-align: right;\n",
       "    }\n",
       "</style>\n",
       "<table border=\"1\" class=\"dataframe\">\n",
       "  <thead>\n",
       "    <tr style=\"text-align: right;\">\n",
       "      <th></th>\n",
       "      <th>PassengerId</th>\n",
       "      <th>Survived</th>\n",
       "      <th>Pclass</th>\n",
       "      <th>Name</th>\n",
       "      <th>Sex</th>\n",
       "      <th>Age</th>\n",
       "      <th>SibSp</th>\n",
       "      <th>Parch</th>\n",
       "      <th>Ticket</th>\n",
       "      <th>Fare</th>\n",
       "      <th>Cabin</th>\n",
       "      <th>Embarked</th>\n",
       "    </tr>\n",
       "  </thead>\n",
       "  <tbody>\n",
       "    <tr>\n",
       "      <th>0</th>\n",
       "      <td>1</td>\n",
       "      <td>0</td>\n",
       "      <td>3</td>\n",
       "      <td>Braund, Mr. Owen Harris</td>\n",
       "      <td>male</td>\n",
       "      <td>22.0</td>\n",
       "      <td>1</td>\n",
       "      <td>0</td>\n",
       "      <td>A/5 21171</td>\n",
       "      <td>7.2500</td>\n",
       "      <td>NaN</td>\n",
       "      <td>S</td>\n",
       "    </tr>\n",
       "    <tr>\n",
       "      <th>1</th>\n",
       "      <td>2</td>\n",
       "      <td>1</td>\n",
       "      <td>1</td>\n",
       "      <td>Cumings, Mrs. John Bradley (Florence Briggs Th...</td>\n",
       "      <td>female</td>\n",
       "      <td>38.0</td>\n",
       "      <td>1</td>\n",
       "      <td>0</td>\n",
       "      <td>PC 17599</td>\n",
       "      <td>71.2833</td>\n",
       "      <td>C85</td>\n",
       "      <td>C</td>\n",
       "    </tr>\n",
       "    <tr>\n",
       "      <th>2</th>\n",
       "      <td>3</td>\n",
       "      <td>1</td>\n",
       "      <td>3</td>\n",
       "      <td>Heikkinen, Miss. Laina</td>\n",
       "      <td>female</td>\n",
       "      <td>26.0</td>\n",
       "      <td>0</td>\n",
       "      <td>0</td>\n",
       "      <td>STON/O2. 3101282</td>\n",
       "      <td>7.9250</td>\n",
       "      <td>NaN</td>\n",
       "      <td>S</td>\n",
       "    </tr>\n",
       "    <tr>\n",
       "      <th>3</th>\n",
       "      <td>4</td>\n",
       "      <td>1</td>\n",
       "      <td>1</td>\n",
       "      <td>Futrelle, Mrs. Jacques Heath (Lily May Peel)</td>\n",
       "      <td>female</td>\n",
       "      <td>35.0</td>\n",
       "      <td>1</td>\n",
       "      <td>0</td>\n",
       "      <td>113803</td>\n",
       "      <td>53.1000</td>\n",
       "      <td>C123</td>\n",
       "      <td>S</td>\n",
       "    </tr>\n",
       "    <tr>\n",
       "      <th>4</th>\n",
       "      <td>5</td>\n",
       "      <td>0</td>\n",
       "      <td>3</td>\n",
       "      <td>Allen, Mr. William Henry</td>\n",
       "      <td>male</td>\n",
       "      <td>35.0</td>\n",
       "      <td>0</td>\n",
       "      <td>0</td>\n",
       "      <td>373450</td>\n",
       "      <td>8.0500</td>\n",
       "      <td>NaN</td>\n",
       "      <td>S</td>\n",
       "    </tr>\n",
       "  </tbody>\n",
       "</table>\n",
       "</div>"
      ],
      "text/plain": [
       "   PassengerId  Survived  Pclass  \\\n",
       "0            1         0       3   \n",
       "1            2         1       1   \n",
       "2            3         1       3   \n",
       "3            4         1       1   \n",
       "4            5         0       3   \n",
       "\n",
       "                                                Name     Sex   Age  SibSp  \\\n",
       "0                            Braund, Mr. Owen Harris    male  22.0      1   \n",
       "1  Cumings, Mrs. John Bradley (Florence Briggs Th...  female  38.0      1   \n",
       "2                             Heikkinen, Miss. Laina  female  26.0      0   \n",
       "3       Futrelle, Mrs. Jacques Heath (Lily May Peel)  female  35.0      1   \n",
       "4                           Allen, Mr. William Henry    male  35.0      0   \n",
       "\n",
       "   Parch            Ticket     Fare Cabin Embarked  \n",
       "0      0         A/5 21171   7.2500   NaN        S  \n",
       "1      0          PC 17599  71.2833   C85        C  \n",
       "2      0  STON/O2. 3101282   7.9250   NaN        S  \n",
       "3      0            113803  53.1000  C123        S  \n",
       "4      0            373450   8.0500   NaN        S  "
      ]
     },
     "execution_count": 2,
     "metadata": {},
     "output_type": "execute_result"
    }
   ],
   "source": [
    "df=pd.read_csv(r\"D:\\Road to Data Science\\DataSets Given In Class\\Titanic.csv.csv\")\n",
    "df.head()"
   ]
  },
  {
   "cell_type": "code",
   "execution_count": 3,
   "id": "687ea4ea",
   "metadata": {},
   "outputs": [
    {
     "data": {
      "text/plain": [
       "177"
      ]
     },
     "execution_count": 3,
     "metadata": {},
     "output_type": "execute_result"
    }
   ],
   "source": [
    "df['Age'].isnull().sum()"
   ]
  },
  {
   "cell_type": "code",
   "execution_count": 4,
   "id": "d26b1c31",
   "metadata": {},
   "outputs": [
    {
     "name": "stderr",
     "output_type": "stream",
     "text": [
      "C:\\Users\\souvi\\anaconda3\\lib\\site-packages\\seaborn\\distributions.py:2619: FutureWarning: `distplot` is a deprecated function and will be removed in a future version. Please adapt your code to use either `displot` (a figure-level function with similar flexibility) or `histplot` (an axes-level function for histograms).\n",
      "  warnings.warn(msg, FutureWarning)\n"
     ]
    },
    {
     "data": {
      "text/plain": [
       "<AxesSubplot:xlabel='Age', ylabel='Density'>"
      ]
     },
     "execution_count": 4,
     "metadata": {},
     "output_type": "execute_result"
    },
    {
     "data": {
      "image/png": "[encoded data removed]",
      "text/plain": [
       "<Figure size 640x480 with 1 Axes>"
      ]
     },
     "metadata": {},
     "output_type": "display_data"
    }
   ],
   "source": [
    "sns.distplot(df['Age'].dropna())"
   ]
  },
  {
   "cell_type": "code",
   "execution_count": 5,
   "id": "53e040aa",
   "metadata": {},
   "outputs": [
    {
     "name": "stderr",
     "output_type": "stream",
     "text": [
      "C:\\Users\\souvi\\anaconda3\\lib\\site-packages\\seaborn\\distributions.py:2619: FutureWarning: `distplot` is a deprecated function and will be removed in a future version. Please adapt your code to use either `displot` (a figure-level function with similar flexibility) or `histplot` (an axes-level function for histograms).\n",
      "  warnings.warn(msg, FutureWarning)\n"
     ]
    },
    {
     "data": {
      "text/plain": [
       "<AxesSubplot:xlabel='Age', ylabel='Density'>"
      ]
     },
     "execution_count": 5,
     "metadata": {},
     "output_type": "execute_result"
    },
    {
     "data": {
      "image/png": "[encoded data removed]",
      "text/plain": [
       "<Figure size 640x480 with 1 Axes>"
      ]
     },
     "metadata": {},
     "output_type": "display_data"
    }
   ],
   "source": [
    "sns.distplot(df['Age'].fillna(100))"
   ]
  },
  {
   "cell_type": "code",
   "execution_count": 7,
   "id": "97b3e876",
   "metadata": {},
   "outputs": [
    {
     "data": {
      "text/plain": [
       "Text(0, 0.5, 'No of Passengers')"
      ]
     },
     "execution_count": 7,
     "metadata": {},
     "output_type": "execute_result"
    },
    {
     "data": {
      "image/png": "[encoded data removed]",
      "text/plain": [
       "<Figure size 640x480 with 1 Axes>"
      ]
     },
     "metadata": {},
     "output_type": "display_data"
    }
   ],
   "source": [
    "figure=df.Age.hist(bins=50)\n",
    "figure.set_title('Age')\n",
    "figure.set_xlabel('Age')\n",
    "figure.set_ylabel('No of Passengers')"
   ]
  },
  {
   "cell_type": "code",
   "execution_count": 8,
   "id": "efea6561",
   "metadata": {
    "scrolled": true
   },
   "outputs": [
    {
     "name": "stderr",
     "output_type": "stream",
     "text": [
      "C:\\Users\\souvi\\anaconda3\\lib\\site-packages\\seaborn\\_decorators.py:36: FutureWarning: Pass the following variable as a keyword arg: x. From version 0.12, the only valid positional argument will be `data`, and passing other arguments without an explicit keyword will result in an error or misinterpretation.\n",
      "  warnings.warn(\n"
     ]
    },
    {
     "data": {
      "text/plain": [
       "<AxesSubplot:xlabel='Age'>"
      ]
     },
     "execution_count": 8,
     "metadata": {},
     "output_type": "execute_result"
    },
    {
     "data": {
      "image/png": "[encoded data removed]",
      "text/plain": [
       "<Figure size 640x480 with 1 Axes>"
      ]
     },
     "metadata": {},
     "output_type": "display_data"
    }
   ],
   "source": [
    "sns.boxplot(df['Age'])"
   ]
  },
  {
   "cell_type": "markdown",
   "id": "5ec98090",
   "metadata": {},
   "source": [
    "#### With respect to gaussian or normal distribution we use this technique"
   ]
  },
  {
   "cell_type": "code",
   "execution_count": 9,
   "id": "9179524a",
   "metadata": {},
   "outputs": [
    {
     "name": "stdout",
     "output_type": "stream",
     "text": [
      "73.27860964406095\n",
      "-13.88037434994331\n",
      "29.69911764705882\n"
     ]
    },
    {
     "data": {
      "text/plain": [
       "(None, None, None)"
      ]
     },
     "execution_count": 9,
     "metadata": {},
     "output_type": "execute_result"
    }
   ],
   "source": [
    "upper_boundary=df['Age'].mean()+3*df['Age'].std()\n",
    "lower_boundary=df['Age'].mean()-3*df['Age'].std()\n",
    "print(upper_boundary),print(lower_boundary),print(df['Age'].mean())"
   ]
  },
  {
   "cell_type": "code",
   "execution_count": 11,
   "id": "3f40903a",
   "metadata": {},
   "outputs": [
    {
     "data": {
      "text/plain": [
       "17.875"
      ]
     },
     "execution_count": 11,
     "metadata": {},
     "output_type": "execute_result"
    }
   ],
   "source": [
    "IQR=df.Age.quantile(0.75)-df.Age.quantile(0.25)\n",
    "IQR"
   ]
  },
  {
   "cell_type": "code",
   "execution_count": 12,
   "id": "56361b7a",
   "metadata": {},
   "outputs": [
    {
     "data": {
      "text/plain": [
       "64.8125"
      ]
     },
     "execution_count": 12,
     "metadata": {},
     "output_type": "execute_result"
    }
   ],
   "source": [
    "upper_bridge=df.Age.quantile(0.75)+IQR*1.5\n",
    "upper_bridge"
   ]
  },
  {
   "cell_type": "code",
   "execution_count": 14,
   "id": "88bea12b",
   "metadata": {},
   "outputs": [
    {
     "data": {
      "text/plain": [
       "-6.6875"
      ]
     },
     "execution_count": 14,
     "metadata": {},
     "output_type": "execute_result"
    }
   ],
   "source": [
    "lower_bridge=df.Age.quantile(0.25)-IQR*1.5\n",
    "lower_bridge"
   ]
  },
  {
   "cell_type": "markdown",
   "id": "80ca7eb4",
   "metadata": {},
   "source": [
    "##### when data is skewed"
   ]
  },
  {
   "cell_type": "code",
   "execution_count": 15,
   "id": "3ec05467",
   "metadata": {
    "scrolled": true
   },
   "outputs": [
    {
     "data": {
      "text/plain": [
       "Text(0, 0.5, 'No of Passengers')"
      ]
     },
     "execution_count": 15,
     "metadata": {},
     "output_type": "execute_result"
    },
    {
     "data": {
      "image/png": "[encoded data removed]",
      "text/plain": [
       "<Figure size 640x480 with 1 Axes>"
      ]
     },
     "metadata": {},
     "output_type": "display_data"
    }
   ],
   "source": [
    "figure=df.Fare.hist(bins=50)\n",
    "figure.set_title('Fare')\n",
    "figure.set_xlabel('Fare')\n",
    "figure.set_ylabel('No of Passengers')"
   ]
  },
  {
   "cell_type": "code",
   "execution_count": 20,
   "id": "889b26e2",
   "metadata": {},
   "outputs": [
    {
     "name": "stderr",
     "output_type": "stream",
     "text": [
      "C:\\Users\\souvi\\anaconda3\\lib\\site-packages\\seaborn\\_decorators.py:36: FutureWarning: Pass the following variable as a keyword arg: x. From version 0.12, the only valid positional argument will be `data`, and passing other arguments without an explicit keyword will result in an error or misinterpretation.\n",
      "  warnings.warn(\n"
     ]
    },
    {
     "data": {
      "text/plain": [
       "<AxesSubplot:xlabel='Fare'>"
      ]
     },
     "execution_count": 20,
     "metadata": {},
     "output_type": "execute_result"
    },
    {
     "data": {
      "image/png": "[encoded data removed]",
      "text/plain": [
       "<Figure size 640x480 with 1 Axes>"
      ]
     },
     "metadata": {},
     "output_type": "display_data"
    }
   ],
   "source": [
    "sns.boxplot(df['Fare'])"
   ]
  },
  {
   "cell_type": "code",
   "execution_count": 17,
   "id": "6f79e22c",
   "metadata": {},
   "outputs": [
    {
     "data": {
      "text/plain": [
       "23.0896"
      ]
     },
     "execution_count": 17,
     "metadata": {},
     "output_type": "execute_result"
    }
   ],
   "source": [
    "IQR=df.Fare.quantile(0.75)-df.Fare.quantile(0.25)\n",
    "IQR"
   ]
  },
  {
   "cell_type": "code",
   "execution_count": 18,
   "id": "6d9c6958",
   "metadata": {},
   "outputs": [
    {
     "name": "stdout",
     "output_type": "stream",
     "text": [
      "100.2688\n",
      "-61.358399999999996\n"
     ]
    },
    {
     "data": {
      "text/plain": [
       "(None, None)"
      ]
     },
     "execution_count": 18,
     "metadata": {},
     "output_type": "execute_result"
    }
   ],
   "source": [
    "upper_bridge=df.Fare.quantile(0.75)+IQR*3\n",
    "lower_bridge=df.Fare.quantile(0.25)-IQR*3\n",
    "print(upper_bridge),print(lower_bridge)"
   ]
  },
  {
   "cell_type": "code",
   "execution_count": 21,
   "id": "7173c28f",
   "metadata": {},
   "outputs": [],
   "source": [
    "df.loc[df['Age']>=73,'Age']=73\n",
    "df.loc[df['Fare']>=100,'Fare']=100"
   ]
  },
  {
   "cell_type": "code",
   "execution_count": 22,
   "id": "5212173e",
   "metadata": {},
   "outputs": [
    {
     "data": {
      "text/html": [
       "<div>\n",
       "<style scoped>\n",
       "    .dataframe tbody tr th:only-of-type {\n",
       "        vertical-align: middle;\n",
       "    }\n",
       "\n",
       "    .dataframe tbody tr th {\n",
       "        vertical-align: top;\n",
       "    }\n",
       "\n",
       "    .dataframe thead th {\n",
       "        text-align: right;\n",
       "    }\n",
       "</style>\n",
       "<table border=\"1\" class=\"dataframe\">\n",
       "  <thead>\n",
       "    <tr style=\"text-align: right;\">\n",
       "      <th></th>\n",
       "      <th>PassengerId</th>\n",
       "      <th>Survived</th>\n",
       "      <th>Pclass</th>\n",
       "      <th>Name</th>\n",
       "      <th>Sex</th>\n",
       "      <th>Age</th>\n",
       "      <th>SibSp</th>\n",
       "      <th>Parch</th>\n",
       "      <th>Ticket</th>\n",
       "      <th>Fare</th>\n",
       "      <th>Cabin</th>\n",
       "      <th>Embarked</th>\n",
       "    </tr>\n",
       "  </thead>\n",
       "  <tbody>\n",
       "    <tr>\n",
       "      <th>0</th>\n",
       "      <td>1</td>\n",
       "      <td>0</td>\n",
       "      <td>3</td>\n",
       "      <td>Braund, Mr. Owen Harris</td>\n",
       "      <td>male</td>\n",
       "      <td>22.0</td>\n",
       "      <td>1</td>\n",
       "      <td>0</td>\n",
       "      <td>A/5 21171</td>\n",
       "      <td>7.2500</td>\n",
       "      <td>NaN</td>\n",
       "      <td>S</td>\n",
       "    </tr>\n",
       "    <tr>\n",
       "      <th>1</th>\n",
       "      <td>2</td>\n",
       "      <td>1</td>\n",
       "      <td>1</td>\n",
       "      <td>Cumings, Mrs. John Bradley (Florence Briggs Th...</td>\n",
       "      <td>female</td>\n",
       "      <td>38.0</td>\n",
       "      <td>1</td>\n",
       "      <td>0</td>\n",
       "      <td>PC 17599</td>\n",
       "      <td>71.2833</td>\n",
       "      <td>C85</td>\n",
       "      <td>C</td>\n",
       "    </tr>\n",
       "    <tr>\n",
       "      <th>2</th>\n",
       "      <td>3</td>\n",
       "      <td>1</td>\n",
       "      <td>3</td>\n",
       "      <td>Heikkinen, Miss. Laina</td>\n",
       "      <td>female</td>\n",
       "      <td>26.0</td>\n",
       "      <td>0</td>\n",
       "      <td>0</td>\n",
       "      <td>STON/O2. 3101282</td>\n",
       "      <td>7.9250</td>\n",
       "      <td>NaN</td>\n",
       "      <td>S</td>\n",
       "    </tr>\n",
       "    <tr>\n",
       "      <th>3</th>\n",
       "      <td>4</td>\n",
       "      <td>1</td>\n",
       "      <td>1</td>\n",
       "      <td>Futrelle, Mrs. Jacques Heath (Lily May Peel)</td>\n",
       "      <td>female</td>\n",
       "      <td>35.0</td>\n",
       "      <td>1</td>\n",
       "      <td>0</td>\n",
       "      <td>113803</td>\n",
       "      <td>53.1000</td>\n",
       "      <td>C123</td>\n",
       "      <td>S</td>\n",
       "    </tr>\n",
       "    <tr>\n",
       "      <th>4</th>\n",
       "      <td>5</td>\n",
       "      <td>0</td>\n",
       "      <td>3</td>\n",
       "      <td>Allen, Mr. William Henry</td>\n",
       "      <td>male</td>\n",
       "      <td>35.0</td>\n",
       "      <td>0</td>\n",
       "      <td>0</td>\n",
       "      <td>373450</td>\n",
       "      <td>8.0500</td>\n",
       "      <td>NaN</td>\n",
       "      <td>S</td>\n",
       "    </tr>\n",
       "  </tbody>\n",
       "</table>\n",
       "</div>"
      ],
      "text/plain": [
       "   PassengerId  Survived  Pclass  \\\n",
       "0            1         0       3   \n",
       "1            2         1       1   \n",
       "2            3         1       3   \n",
       "3            4         1       1   \n",
       "4            5         0       3   \n",
       "\n",
       "                                                Name     Sex   Age  SibSp  \\\n",
       "0                            Braund, Mr. Owen Harris    male  22.0      1   \n",
       "1  Cumings, Mrs. John Bradley (Florence Briggs Th...  female  38.0      1   \n",
       "2                             Heikkinen, Miss. Laina  female  26.0      0   \n",
       "3       Futrelle, Mrs. Jacques Heath (Lily May Peel)  female  35.0      1   \n",
       "4                           Allen, Mr. William Henry    male  35.0      0   \n",
       "\n",
       "   Parch            Ticket     Fare Cabin Embarked  \n",
       "0      0         A/5 21171   7.2500   NaN        S  \n",
       "1      0          PC 17599  71.2833   C85        C  \n",
       "2      0  STON/O2. 3101282   7.9250   NaN        S  \n",
       "3      0            113803  53.1000  C123        S  \n",
       "4      0            373450   8.0500   NaN        S  "
      ]
     },
     "execution_count": 22,
     "metadata": {},
     "output_type": "execute_result"
    }
   ],
   "source": [
    "df.head()"
   ]
  },
  {
   "cell_type": "code",
   "execution_count": 23,
   "id": "0715e67e",
   "metadata": {},
   "outputs": [
    {
     "data": {
      "text/plain": [
       "Text(0, 0.5, 'No of Passengers')"
      ]
     },
     "execution_count": 23,
     "metadata": {},
     "output_type": "execute_result"
    },
    {
     "data": {
      "image/png": "[encoded data removed]",
      "text/plain": [
       "<Figure size 640x480 with 1 Axes>"
      ]
     },
     "metadata": {},
     "output_type": "display_data"
    }
   ],
   "source": [
    "figure=df.Fare.hist(bins=50)\n",
    "figure.set_title('Fare')\n",
    "figure.set_xlabel('Fare')\n",
    "figure.set_ylabel('No of Passengers')"
   ]
  },
  {
   "cell_type": "code",
   "execution_count": 26,
   "id": "d2a8918a",
   "metadata": {},
   "outputs": [
    {
     "data": {
      "text/plain": [
       "LogisticRegression()"
      ]
     },
     "execution_count": 26,
     "metadata": {},
     "output_type": "execute_result"
    }
   ],
   "source": [
    "from sklearn.model_selection import train_test_split\n",
    "X_train,X_test,y_train,y_test=train_test_split(df[['Age','Fare']].fillna(0),df['Survived'],test_size=0.30,random_state=40)\n",
    "from sklearn.linear_model import LogisticRegression\n",
    "classifier=LogisticRegression()\n",
    "classifier"
   ]
  },
  {
   "cell_type": "code",
   "execution_count": 30,
   "id": "a39e28b9",
   "metadata": {},
   "outputs": [
    {
     "data": {
      "text/plain": [
       "array([[0.73341334, 0.26658666],\n",
       "       [0.72834322, 0.27165678],\n",
       "       [0.63797677, 0.36202323],\n",
       "       [0.49593745, 0.50406255],\n",
       "       [0.72972823, 0.27027177],\n",
       "       [0.71379013, 0.28620987],\n",
       "       [0.72078008, 0.27921992],\n",
       "       [0.72457774, 0.27542226],\n",
       "       [0.70467258, 0.29532742],\n",
       "       [0.20943669, 0.79056331],\n",
       "       [0.60210262, 0.39789738],\n",
       "       [0.22999986, 0.77000014],\n",
       "       [0.70427831, 0.29572169],\n",
       "       [0.6423418 , 0.3576582 ],\n",
       "       [0.74037956, 0.25962044],\n",
       "       [0.58876834, 0.41123166],\n",
       "       [0.71825981, 0.28174019],\n",
       "       [0.70218391, 0.29781609],\n",
       "       [0.72279987, 0.27720013],\n",
       "       [0.64581418, 0.35418582],\n",
       "       [0.69999444, 0.30000556],\n",
       "       [0.4764104 , 0.5235896 ],\n",
       "       [0.65206259, 0.34793741],\n",
       "       [0.70088424, 0.29911576],\n",
       "       [0.25259387, 0.74740613],\n",
       "       [0.61182139, 0.38817861],\n",
       "       [0.33633325, 0.66366675],\n",
       "       [0.69999444, 0.30000556],\n",
       "       [0.67011717, 0.32988283],\n",
       "       [0.70079783, 0.29920217],\n",
       "       [0.33461565, 0.66538435],\n",
       "       [0.73357496, 0.26642504],\n",
       "       [0.73225538, 0.26774462],\n",
       "       [0.72379722, 0.27620278],\n",
       "       [0.72467978, 0.27532022],\n",
       "       [0.37241364, 0.62758636],\n",
       "       [0.72360149, 0.27639851],\n",
       "       [0.74204547, 0.25795453],\n",
       "       [0.72790126, 0.27209874],\n",
       "       [0.70114443, 0.29885557],\n",
       "       [0.69966846, 0.30033154],\n",
       "       [0.72078008, 0.27921992],\n",
       "       [0.72832159, 0.27167841],\n",
       "       [0.36178038, 0.63821962],\n",
       "       [0.75068397, 0.24931603],\n",
       "       [0.7618943 , 0.2381057 ],\n",
       "       [0.69999444, 0.30000556],\n",
       "       [0.72612094, 0.27387906],\n",
       "       [0.68208861, 0.31791139],\n",
       "       [0.69999444, 0.30000556],\n",
       "       [0.70598538, 0.29401462],\n",
       "       [0.6683036 , 0.3316964 ],\n",
       "       [0.50843494, 0.49156506],\n",
       "       [0.26904824, 0.73095176],\n",
       "       [0.6619922 , 0.3380078 ],\n",
       "       [0.71644565, 0.28355435],\n",
       "       [0.71394616, 0.28605384],\n",
       "       [0.27560981, 0.72439019],\n",
       "       [0.23450491, 0.76549509],\n",
       "       [0.7340614 , 0.2659386 ],\n",
       "       [0.47227919, 0.52772081],\n",
       "       [0.49730449, 0.50269551],\n",
       "       [0.72910007, 0.27089993],\n",
       "       [0.19221154, 0.80778846],\n",
       "       [0.45482764, 0.54517236],\n",
       "       [0.61063217, 0.38936783],\n",
       "       [0.31621751, 0.68378249],\n",
       "       [0.68330187, 0.31669813],\n",
       "       [0.66884285, 0.33115715],\n",
       "       [0.71680949, 0.28319051],\n",
       "       [0.62058185, 0.37941815],\n",
       "       [0.5423887 , 0.4576113 ],\n",
       "       [0.6029067 , 0.3970933 ],\n",
       "       [0.65082694, 0.34917306],\n",
       "       [0.73097119, 0.26902881],\n",
       "       [0.69999444, 0.30000556],\n",
       "       [0.71687504, 0.28312496],\n",
       "       [0.36470231, 0.63529769],\n",
       "       [0.76813916, 0.23186084],\n",
       "       [0.72467978, 0.27532022],\n",
       "       [0.75068397, 0.24931603],\n",
       "       [0.72905788, 0.27094212],\n",
       "       [0.69465215, 0.30534785],\n",
       "       [0.71401343, 0.28598657],\n",
       "       [0.73052527, 0.26947473],\n",
       "       [0.19221154, 0.80778846],\n",
       "       [0.461716  , 0.538284  ],\n",
       "       [0.24022176, 0.75977824],\n",
       "       [0.65984755, 0.34015245],\n",
       "       [0.23792364, 0.76207636],\n",
       "       [0.72755467, 0.27244533],\n",
       "       [0.73129454, 0.26870546],\n",
       "       [0.74808464, 0.25191536],\n",
       "       [0.43204107, 0.56795893],\n",
       "       [0.71861438, 0.28138562],\n",
       "       [0.71485601, 0.28514399],\n",
       "       [0.69679117, 0.30320883],\n",
       "       [0.70079783, 0.29920217],\n",
       "       [0.70079783, 0.29920217],\n",
       "       [0.24603319, 0.75396681],\n",
       "       [0.49061567, 0.50938433],\n",
       "       [0.74022538, 0.25977462],\n",
       "       [0.72981447, 0.27018553],\n",
       "       [0.69652882, 0.30347118],\n",
       "       [0.30657678, 0.69342322],\n",
       "       [0.7604816 , 0.2395184 ],\n",
       "       [0.72191006, 0.27808994],\n",
       "       [0.30645417, 0.69354583],\n",
       "       [0.706171  , 0.293829  ],\n",
       "       [0.70857015, 0.29142985],\n",
       "       [0.67710559, 0.32289441],\n",
       "       [0.69811482, 0.30188518],\n",
       "       [0.45703838, 0.54296162],\n",
       "       [0.6462747 , 0.3537253 ],\n",
       "       [0.66228023, 0.33771977],\n",
       "       [0.66532772, 0.33467228],\n",
       "       [0.62587934, 0.37412066],\n",
       "       [0.41203424, 0.58796576],\n",
       "       [0.65597929, 0.34402071],\n",
       "       [0.20631647, 0.79368353],\n",
       "       [0.74307832, 0.25692168],\n",
       "       [0.6958093 , 0.3041907 ],\n",
       "       [0.69245669, 0.30754331],\n",
       "       [0.72554685, 0.27445315],\n",
       "       [0.72362234, 0.27637766],\n",
       "       [0.28510623, 0.71489377],\n",
       "       [0.74125484, 0.25874516],\n",
       "       [0.51323038, 0.48676962],\n",
       "       [0.22999986, 0.77000014],\n",
       "       [0.36644093, 0.63355907],\n",
       "       [0.66080669, 0.33919331],\n",
       "       [0.72651811, 0.27348189],\n",
       "       [0.70136133, 0.29863867],\n",
       "       [0.71379013, 0.28620987],\n",
       "       [0.77357207, 0.22642793],\n",
       "       [0.66363246, 0.33636754],\n",
       "       [0.22888313, 0.77111687],\n",
       "       [0.73644248, 0.26355752],\n",
       "       [0.69999444, 0.30000556],\n",
       "       [0.64216597, 0.35783403],\n",
       "       [0.49277965, 0.50722035],\n",
       "       [0.73672062, 0.26327938],\n",
       "       [0.31698168, 0.68301832],\n",
       "       [0.69781097, 0.30218903],\n",
       "       [0.60210262, 0.39789738],\n",
       "       [0.68564852, 0.31435148],\n",
       "       [0.70425659, 0.29574341],\n",
       "       [0.76942214, 0.23057786],\n",
       "       [0.63487661, 0.36512339],\n",
       "       [0.70155631, 0.29844369],\n",
       "       [0.54306913, 0.45693087],\n",
       "       [0.72583649, 0.27416351],\n",
       "       [0.70967808, 0.29032192],\n",
       "       [0.70598538, 0.29401462],\n",
       "       [0.72880491, 0.27119509],\n",
       "       [0.6022483 , 0.3977517 ],\n",
       "       [0.70155631, 0.29844369],\n",
       "       [0.53849696, 0.46150304],\n",
       "       [0.45590737, 0.54409263],\n",
       "       [0.73640318, 0.26359682],\n",
       "       [0.72331541, 0.27668459],\n",
       "       [0.25552663, 0.74447337],\n",
       "       [0.74214431, 0.25785569],\n",
       "       [0.66179809, 0.33820191],\n",
       "       [0.70079783, 0.29920217],\n",
       "       [0.56230218, 0.43769782],\n",
       "       [0.73203336, 0.26796664],\n",
       "       [0.64727539, 0.35272461],\n",
       "       [0.47484473, 0.52515527],\n",
       "       [0.70414902, 0.29585098],\n",
       "       [0.63358885, 0.36641115],\n",
       "       [0.72207146, 0.27792854],\n",
       "       [0.72698417, 0.27301583],\n",
       "       [0.21471383, 0.78528617],\n",
       "       [0.59907223, 0.40092777],\n",
       "       [0.70162129, 0.29837871],\n",
       "       [0.48579942, 0.51420058],\n",
       "       [0.75222894, 0.24777106],\n",
       "       [0.44015706, 0.55984294],\n",
       "       [0.75406518, 0.24593482],\n",
       "       [0.21578077, 0.78421923],\n",
       "       [0.54061645, 0.45938355],\n",
       "       [0.70584921, 0.29415079],\n",
       "       [0.65590528, 0.34409472],\n",
       "       [0.59582952, 0.40417048],\n",
       "       [0.25801654, 0.74198346],\n",
       "       [0.26280273, 0.73719727],\n",
       "       [0.7189872 , 0.2810128 ],\n",
       "       [0.70166443, 0.29833557],\n",
       "       [0.78583979, 0.21416021],\n",
       "       [0.62951019, 0.37048981],\n",
       "       [0.75409198, 0.24590802],\n",
       "       [0.73774415, 0.26225585],\n",
       "       [0.37977408, 0.62022592],\n",
       "       [0.73225538, 0.26774462],\n",
       "       [0.37241364, 0.62758636],\n",
       "       [0.33633325, 0.66366675],\n",
       "       [0.5811458 , 0.4188542 ],\n",
       "       [0.65642487, 0.34357513],\n",
       "       [0.21792617, 0.78207383],\n",
       "       [0.70079783, 0.29920217],\n",
       "       [0.63633956, 0.36366044],\n",
       "       [0.76045081, 0.23954919],\n",
       "       [0.57652628, 0.42347372],\n",
       "       [0.69999444, 0.30000556],\n",
       "       [0.68202748, 0.31797252],\n",
       "       [0.70308918, 0.29691082],\n",
       "       [0.65445194, 0.34554806],\n",
       "       [0.49428442, 0.50571558],\n",
       "       [0.76747956, 0.23252044],\n",
       "       [0.73031   , 0.26969   ],\n",
       "       [0.72709165, 0.27290835],\n",
       "       [0.65977675, 0.34022325],\n",
       "       [0.34409349, 0.65590651],\n",
       "       [0.62382453, 0.37617547],\n",
       "       [0.72969206, 0.27030794],\n",
       "       [0.57196502, 0.42803498],\n",
       "       [0.20323078, 0.79676922],\n",
       "       [0.53362423, 0.46637577],\n",
       "       [0.56603706, 0.43396294],\n",
       "       [0.71921334, 0.28078666],\n",
       "       [0.54617472, 0.45382528],\n",
       "       [0.73515151, 0.26484849],\n",
       "       [0.64216597, 0.35783403],\n",
       "       [0.70382565, 0.29617435],\n",
       "       [0.22445441, 0.77554559],\n",
       "       [0.70155631, 0.29844369],\n",
       "       [0.7335337 , 0.2664663 ],\n",
       "       [0.73225538, 0.26774462],\n",
       "       [0.72526131, 0.27473869],\n",
       "       [0.43449876, 0.56550124],\n",
       "       [0.67710717, 0.32289283],\n",
       "       [0.71227399, 0.28772601],\n",
       "       [0.73410163, 0.26589837],\n",
       "       [0.65977675, 0.34022325],\n",
       "       [0.70155631, 0.29844369],\n",
       "       [0.21685155, 0.78314845],\n",
       "       [0.68558618, 0.31441382],\n",
       "       [0.70079783, 0.29920217],\n",
       "       [0.38161753, 0.61838247],\n",
       "       [0.45158178, 0.54841822],\n",
       "       [0.68912631, 0.31087369],\n",
       "       [0.51597808, 0.48402192],\n",
       "       [0.74499389, 0.25500611],\n",
       "       [0.67553912, 0.32446088],\n",
       "       [0.76100577, 0.23899423],\n",
       "       [0.6923801 , 0.3076199 ],\n",
       "       [0.72519917, 0.27480083],\n",
       "       [0.79521398, 0.20478602],\n",
       "       [0.65521959, 0.34478041],\n",
       "       [0.3957376 , 0.6042624 ],\n",
       "       [0.59074831, 0.40925169],\n",
       "       [0.72127877, 0.27872123],\n",
       "       [0.65402957, 0.34597043],\n",
       "       [0.69953801, 0.30046199],\n",
       "       [0.64071322, 0.35928678],\n",
       "       [0.21685155, 0.78314845],\n",
       "       [0.71947362, 0.28052638],\n",
       "       [0.74964426, 0.25035574],\n",
       "       [0.42105991, 0.57894009],\n",
       "       [0.73034584, 0.26965416],\n",
       "       [0.45723481, 0.54276519],\n",
       "       [0.51480825, 0.48519175],\n",
       "       [0.69039378, 0.30960622],\n",
       "       [0.23564069, 0.76435931],\n",
       "       [0.72987318, 0.27012682],\n",
       "       [0.74428236, 0.25571764],\n",
       "       [0.64364118, 0.35635882]])"
      ]
     },
     "execution_count": 30,
     "metadata": {},
     "output_type": "execute_result"
    }
   ],
   "source": [
    "classifier.fit(X_train,y_train)\n",
    "y_pred=classifier.predict(X_test)\n",
    "y_pred\n",
    "y_pred1=classifier.predict_proba(X_test)\n",
    "y_pred1"
   ]
  },
  {
   "cell_type": "code",
   "execution_count": 33,
   "id": "94ac4fe2",
   "metadata": {},
   "outputs": [
    {
     "name": "stdout",
     "output_type": "stream",
     "text": [
      "0.6716417910447762\n",
      "[[137  19]\n",
      " [ 69  43]]\n"
     ]
    }
   ],
   "source": [
    "from sklearn.metrics import accuracy_score,classification_report,confusion_matrix\n",
    "print(accuracy_score(y_test,y_pred))\n",
    "print(confusion_matrix(y_test,y_pred))"
   ]
  },
  {
   "cell_type": "code",
   "execution_count": 34,
   "id": "8aac4f65",
   "metadata": {},
   "outputs": [
    {
     "data": {
      "text/plain": [
       "RandomForestClassifier()"
      ]
     },
     "execution_count": 34,
     "metadata": {},
     "output_type": "execute_result"
    }
   ],
   "source": [
    "from sklearn.ensemble import RandomForestClassifier\n",
    "model=RandomForestClassifier()\n",
    "model"
   ]
  },
  {
   "cell_type": "code",
   "execution_count": 36,
   "id": "dfbe74f4",
   "metadata": {},
   "outputs": [
    {
     "name": "stdout",
     "output_type": "stream",
     "text": [
      "0.664179104477612\n"
     ]
    }
   ],
   "source": [
    "model.fit(X_train,y_train)\n",
    "y_pred=model.predict(X_test)\n",
    "print(accuracy_score(y_test,y_pred))"
   ]
  },
  {
   "cell_type": "code",
   "execution_count": null,
   "id": "399cc8e3",
   "metadata": {},
   "outputs": [],
   "source": []
  }
 ],
 "metadata": {
  "kernelspec": {
   "display_name": "Python 3 (ipykernel)",
   "language": "python",
   "name": "python3"
  },
  "language_info": {
   "codemirror_mode": {
    "name": "ipython",
    "version": 3
   },
   "file_extension": ".py",
   "mimetype": "text/x-python",
   "name": "python",
   "nbconvert_exporter": "python",
   "pygments_lexer": "ipython3",
   "version": "3.9.13"
  }
 },
 "nbformat": 4,
 "nbformat_minor": 5
}
